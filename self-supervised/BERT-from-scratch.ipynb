{
 "cells": [
  {
   "attachments": {},
   "cell_type": "markdown",
   "id": "0c08a40b",
   "metadata": {},
   "source": [
    "# Bidirectional Encoder Representations from Transformers (BERT)\n",
    "\n",
    "This notebook show a basic implementation of BERT pre-training using the wikipedia dataset."
   ]
  },
  {
   "cell_type": "code",
   "execution_count": 1,
   "id": "a6b2ab54",
   "metadata": {},
   "outputs": [
    {
     "data": {
      "text/html": [
       "\n",
       "                <script type=\"application/javascript\" id=\"jupyter_black\">\n",
       "                (function() {\n",
       "                    if (window.IPython === undefined) {\n",
       "                        return\n",
       "                    }\n",
       "                    var msg = \"WARNING: it looks like you might have loaded \" +\n",
       "                        \"jupyter_black in a non-lab notebook with \" +\n",
       "                        \"`is_lab=True`. Please double check, and if \" +\n",
       "                        \"loading with `%load_ext` please review the README!\"\n",
       "                    console.log(msg)\n",
       "                    alert(msg)\n",
       "                })()\n",
       "                </script>\n",
       "                "
      ],
      "text/plain": [
       "<IPython.core.display.HTML object>"
      ]
     },
     "metadata": {},
     "output_type": "display_data"
    }
   ],
   "source": [
    "# black formatting with jupyter-black\n",
    "import jupyter_black\n",
    "\n",
    "jupyter_black.load(\n",
    "    lab=True,\n",
    "    line_length=140,\n",
    ")"
   ]
  },
  {
   "cell_type": "code",
   "execution_count": 2,
   "id": "0f297020",
   "metadata": {},
   "outputs": [],
   "source": [
    "import os\n",
    "\n",
    "os.environ[\"TOKENIZERS_PARALLELISM\"] = \"false\""
   ]
  },
  {
   "cell_type": "code",
   "execution_count": 3,
   "id": "842c663c",
   "metadata": {},
   "outputs": [],
   "source": [
    "# import libaries\n",
    "import torch\n",
    "import re\n",
    "\n",
    "import numpy as np\n",
    "import seaborn as sns\n",
    "import pandas as pd\n",
    "import torch.nn.functional as F\n",
    "from torch import nn\n",
    "import multiprocessing as mp\n",
    "\n",
    "from typing import List\n",
    "from torch.nn.utils.rnn import pad_sequence\n",
    "from sklearn.model_selection import train_test_split\n",
    "from tqdm.notebook import tqdm\n",
    "from torch.utils.data import DataLoader, Dataset, TensorDataset\n",
    "import re\n",
    "\n",
    "from tempfile import NamedTemporaryFile\n",
    "\n",
    "from datasets import load_dataset\n",
    "\n",
    "\n",
    "from utils import text_preprocessing"
   ]
  },
  {
   "cell_type": "code",
   "execution_count": 4,
   "id": "55811346",
   "metadata": {},
   "outputs": [],
   "source": [
    "# download wikipedia dataset\n",
    "data = load_dataset(\"wikipedia\", \"20220301.en\", split=\"train[0:500]\", trust_remote_code=True).to_pandas()"
   ]
  },
  {
   "cell_type": "code",
   "execution_count": 5,
   "id": "a3a723f5",
   "metadata": {},
   "outputs": [],
   "source": [
    "# split each text by \".\"\n",
    "texts = []\n",
    "\n",
    "for t_id, t in enumerate(data.text.tolist()):\n",
    "    t = t.split(\".\")\n",
    "    for sentence_id, sentence in enumerate(t):\n",
    "        texts.append({\"paragraph_id\": t_id, \"sentence_id\": sentence_id, \"text\": sentence})\n",
    "\n",
    "data = pd.DataFrame(texts)"
   ]
  },
  {
   "cell_type": "markdown",
   "id": "ffd54d8f",
   "metadata": {},
   "source": [
    "# Tokenizer"
   ]
  },
  {
   "cell_type": "markdown",
   "id": "0dbf27cc",
   "metadata": {},
   "source": [
    "We have implemented a Byte-Per Encoding Tokenizer. However, this python implementation is really slow and so we will use a transformers implementation of Word Piece Tokenizer "
   ]
  },
  {
   "cell_type": "code",
   "execution_count": 6,
   "id": "7eacd820",
   "metadata": {},
   "outputs": [],
   "source": [
    "from tokenizers import Tokenizer, models, trainers\n",
    "from tokenizers.pre_tokenizers import BertPreTokenizer"
   ]
  },
  {
   "cell_type": "code",
   "execution_count": 7,
   "id": "1836bad7",
   "metadata": {},
   "outputs": [
    {
     "name": "stdout",
     "output_type": "stream",
     "text": [
      "\n",
      "\n",
      "\n"
     ]
    }
   ],
   "source": [
    "# Initialize a tokenizer\n",
    "tokenizer = Tokenizer(models.WordPiece(unk_token=\"[UNK]\"))\n",
    "\n",
    "# Set the pre-tokenizer to a custom one\n",
    "tokenizer.pre_tokenizer = BertPreTokenizer()\n",
    "\n",
    "# Enable padding for the tokenizer\n",
    "# tokenizer.enable_padding()\n",
    "\n",
    "# Initialize a trainer with desired parameters\n",
    "trainer = trainers.WordPieceTrainer(vocab_size=30000, special_tokens=[\"[PAD]\", \"[UNK]\", \"[CLS]\", \"[SEP]\", \"[MASK]\"])\n",
    "\n",
    "# preprocess data\n",
    "data.text = data.text.apply(text_preprocessing)\n",
    "\n",
    "# Load your training data into a list of strings\n",
    "train_data = data.text.tolist()\n",
    "\n",
    "# Train the tokenizer\n",
    "tokenizer.train_from_iterator(\n",
    "    train_data,\n",
    "    trainer=trainer,\n",
    ")"
   ]
  },
  {
   "cell_type": "code",
   "execution_count": 8,
   "id": "29e6222d",
   "metadata": {},
   "outputs": [
    {
     "data": {
      "text/plain": [
       "['praying', ',', 'she', \"'\", 's', 'a', 'good', 'person']"
      ]
     },
     "execution_count": 8,
     "metadata": {},
     "output_type": "execute_result"
    }
   ],
   "source": [
    "tokenizer.encode(\"praying, she's a good person\").tokens"
   ]
  },
  {
   "cell_type": "code",
   "execution_count": 9,
   "id": "7deff109",
   "metadata": {},
   "outputs": [],
   "source": [
    "# count number of words\n",
    "data[\"text_length\"] = data.text.apply(lambda x: len(tokenizer.encode(x).tokens))\n",
    "data = data.query(\"text_length>=5 and text_length<=60\").reset_index(drop=True)"
   ]
  },
  {
   "cell_type": "code",
   "execution_count": 10,
   "id": "c6aa35ff",
   "metadata": {},
   "outputs": [
    {
     "data": {
      "text/plain": [
       "<Axes: xlabel='text_length', ylabel='Count'>"
      ]
     },
     "execution_count": 10,
     "metadata": {},
     "output_type": "execute_result"
    },
    {
     "data": {
      "image/png": "[encoded data removed]",
      "text/plain": [
       "<Figure size 640x480 with 1 Axes>"
      ]
     },
     "metadata": {},
     "output_type": "display_data"
    }
   ],
   "source": [
    "# plot number of words distribution\n",
    "sns.histplot(data=data, x=\"text_length\", kde=True)"
   ]
  },
  {
   "cell_type": "markdown",
   "id": "cd990621",
   "metadata": {},
   "source": [
    "## Create a dataset with  positive and negative samples for the Next Sentence Prediction (NSP) task\n",
    "\n",
    "Now we create the dataset that will be sued for Next Sentence Prediction. In NSP, the model is given two sentences and must predict whether the second sentence logically follows the first sentence in a coherent narrative or if the two sentences are unrelated. This task helps the model understand the relationships between sentences and improve its comprehension of text flow, context, and continuity."
   ]
  },
  {
   "cell_type": "code",
   "execution_count": 11,
   "id": "e91c4359",
   "metadata": {},
   "outputs": [],
   "source": [
    "def get_nsp_sample(dataset, idx):\n",
    "    \"\"\"\n",
    "    Generates a sample for the Next Sentence Prediction (NSP) task.\n",
    "\n",
    "    Arguments:\n",
    "    ----------\n",
    "        dataset (pd.DataFrame): The dataset containing text, paragraph_id, and sentence_id columns.\n",
    "        idx (int): The index of the sentence to be used as the first sentence (sentence_a).\n",
    "\n",
    "    Returns:\n",
    "    --------\n",
    "        tuple: A tuple containing:\n",
    "            - sentence_a (str): The first sentence.\n",
    "            - sentence_b (str): The second sentence, which can either be a coherent follow-up sentence or an unrelated one.\n",
    "            - nsp_label (int): The label indicating if sentence_b is a follow-up (1) or not (0).\n",
    "    \"\"\"\n",
    "    sentence_a = dataset.loc[idx, \"text\"]\n",
    "    paragraph_id_a = dataset.loc[idx, \"paragraph_id\"]\n",
    "    sentence_id_a = dataset.loc[idx, \"sentence_id\"]\n",
    "\n",
    "    prob_nsp = np.random.random()\n",
    "\n",
    "    if prob_nsp >= 0.5:\n",
    "        sentence_b, nsp_label = get_positive_pair(dataset, paragraph_id_a, sentence_id_a)\n",
    "    else:\n",
    "        sentence_b, nsp_label = get_negative_pair(dataset, paragraph_id_a, sentence_id_a, hard_negative=False)\n",
    "\n",
    "    if sentence_b is None:\n",
    "        sentence_b, nsp_label = get_negative_pair(dataset, paragraph_id_a, sentence_id_a, hard_negative=False)\n",
    "\n",
    "    return sentence_a, sentence_b, nsp_label\n",
    "\n",
    "\n",
    "def get_positive_pair(dataset, paragraph_id_a, sentence_id_a):\n",
    "    \"\"\"\n",
    "    Retrieves a positive sentence pair for the NSP task, where the second sentence follows the first.\n",
    "\n",
    "    Arguments:\n",
    "    ----------\n",
    "        dataset (pd.DataFrame): The dataset containing text, paragraph_id, and sentence_id columns.\n",
    "        paragraph_id_a (int): The paragraph ID of the first sentence.\n",
    "        sentence_id_a (int): The sentence ID of the first sentence.\n",
    "\n",
    "    Returns:\n",
    "    --------\n",
    "        tuple: A tuple containing:\n",
    "            - sentence_b (str or None): The next sentence if it exists, otherwise None.\n",
    "            - nsp_label (int): The label indicating this is a follow-up sentence (1).\n",
    "    \"\"\"\n",
    "    nsp_label = 1\n",
    "    sentence_id_b = sentence_id_a + 1\n",
    "\n",
    "    try:\n",
    "        sentence_b = dataset.query(f\"paragraph_id == {paragraph_id_a} and sentence_id == {sentence_id_b}\").text.iloc[0]\n",
    "    except:\n",
    "        sentence_b = None\n",
    "\n",
    "    return sentence_b, nsp_label\n",
    "\n",
    "\n",
    "def get_negative_pair(dataset, paragraph_id_a, sentence_id_a, hard_negative=False):\n",
    "    \"\"\"\n",
    "    Retrieves a negative sentence pair for the NSP task, where the second sentence does not follow the first.\n",
    "\n",
    "    Arguments:\n",
    "    ----------\n",
    "        dataset (pd.DataFrame): The dataset containing text, paragraph_id, and sentence_id columns.\n",
    "        paragraph_id_a (int): The paragraph ID of the first sentence.\n",
    "        sentence_id_a (int): The sentence ID of the first sentence.\n",
    "        hard_negative (bool): If True, the second sentence is chosen from the same paragraph but is not the next sentence. \n",
    "                              If False, the second sentence is chosen from a different paragraph.\n",
    "\n",
    "    Returns:\n",
    "    --------\n",
    "        tuple: A tuple containing:\n",
    "            - sentence_b (str): The unrelated sentence.\n",
    "            - nsp_label (int): The label indicating this is not a follow-up sentence (0).\n",
    "    \"\"\"\n",
    "    nsp_label = 0\n",
    "\n",
    "    if hard_negative:\n",
    "        sentence_b = dataset.query(f\"paragraph_id == {paragraph_id_a} and sentence_id != {sentence_id_a}\").sample(1).text.iloc[0]\n",
    "    else:\n",
    "        sentence_b = dataset.query(f\"paragraph_id != {paragraph_id_a}\").sample(1).text.iloc[0]\n",
    "\n",
    "    return sentence_b, nsp_label\n"
   ]
  },
  {
   "cell_type": "code",
   "execution_count": 12,
   "id": "4ba38a79",
   "metadata": {},
   "outputs": [],
   "source": [
    "# prepare dataset for NSP\n",
    "sentence_a = []\n",
    "sentence_b = []\n",
    "label = []\n",
    "\n",
    "for i in range(len(data)):\n",
    "\n",
    "    a, b, l = get_nsp_sample(data, i)\n",
    "\n",
    "    sentence_a.append(a)\n",
    "    sentence_b.append(b)\n",
    "    label.append(l)\n",
    "\n",
    "data[\"sentence_a\"] = sentence_a\n",
    "data[\"sentence_b\"] = sentence_b\n",
    "data[\"label\"] = label"
   ]
  },
  {
   "cell_type": "code",
   "execution_count": 15,
   "id": "06b51888",
   "metadata": {},
   "outputs": [
    {
     "data": {
      "text/plain": [
       "label\n",
       "0    47584\n",
       "1    38916\n",
       "Name: count, dtype: int64"
      ]
     },
     "execution_count": 15,
     "metadata": {},
     "output_type": "execute_result"
    }
   ],
   "source": [
    "data.label.value_counts()"
   ]
  },
  {
   "attachments": {},
   "cell_type": "markdown",
   "id": "bd227107",
   "metadata": {},
   "source": [
    "# Custom Dataset And Data Collator\n",
    "\n",
    "We define a custom data that prepare data MLM and NSP pre-trainig"
   ]
  },
  {
   "cell_type": "code",
   "execution_count": 16,
   "metadata": {},
   "outputs": [],
   "source": [
    "import numpy as np\n",
    "from torch.nn.utils.rnn import pad_sequence\n",
    "import torch"
   ]
  },
  {
   "cell_type": "code",
   "execution_count": 17,
   "id": "c30cc820",
   "metadata": {},
   "outputs": [],
   "source": [
    "class CustomDataset(Dataset):\n",
    "    def __init__(self, dataset: pd.DataFrame, hard_negative=False) -> None:\n",
    "        super().__init__()\n",
    "\n",
    "        self.dataset = dataset\n",
    "        self.hard_negative = hard_negative\n",
    "        self.sep_token_id = tokenizer.encode(\"[SEP]\").ids\n",
    "        self.cls_token_id = tokenizer.encode(\"[CLS]\").ids\n",
    "\n",
    "    def __len__(self) -> int:\n",
    "        return len(self.dataset)\n",
    "\n",
    "    def __getitem__(self, idx):\n",
    "\n",
    "        sentence_a = self.dataset.sentence_a.tolist()[idx]\n",
    "        sentence_b = self.dataset.sentence_b.tolist()[idx]\n",
    "        nsp_label = self.dataset.label.tolist()[idx]\n",
    "\n",
    "        # sentence_a, sentence_b, nsp_label = self.get_nsp_sample(idx)\n",
    "\n",
    "        sentence = f\"[CLS] {sentence_a} [SEP] {sentence_b}\"\n",
    "        ids, mlm_labels = self.get_masked_sentence(sentence)\n",
    "\n",
    "        return ids, mlm_labels, nsp_label\n",
    "\n",
    "    def get_masked_sentence(self, sentence):\n",
    "\n",
    "        encoded_sentence = tokenizer.encode(sentence, add_special_tokens=False)\n",
    "        ids = np.array(encoded_sentence.ids)\n",
    "\n",
    "        n_mask_tokens = max(1, round(len(ids) * 0.15))\n",
    "\n",
    "        sep_index = (ids == tokenizer.token_to_id(\"[SEP]\")).argmax()\n",
    "        candidate_mask = np.arange(len(ids))\n",
    "        candidate_mask = candidate_mask[~np.isin(candidate_mask, [0, sep_index])]\n",
    "\n",
    "        selected_tokens = np.random.choice(candidate_mask, size=n_mask_tokens, replace=False)\n",
    "        # selected_tokens_ids = ids[selected_tokens]\n",
    "        mlm_labels = ids.copy()\n",
    "        ids[selected_tokens] = tokenizer.token_to_id(\"[MASK]\")\n",
    "\n",
    "        return ids.tolist(), mlm_labels.tolist()"
   ]
  },
  {
   "cell_type": "code",
   "execution_count": 18,
   "id": "a8707ef1",
   "metadata": {},
   "outputs": [],
   "source": [
    "class DataCollatorForMLMAndNSP:\n",
    "\n",
    "    def __init__(self, pad_token_id=0) -> None:\n",
    "\n",
    "        self.pad_token_id = pad_token_id\n",
    "\n",
    "    def __call__(self, sentences):\n",
    "\n",
    "        ids = [torch.LongTensor(tokens[0]) for tokens in sentences]\n",
    "        mlm_labels = [torch.LongTensor(tokens[1]) for tokens in sentences]\n",
    "        # pos_masked_ids = [torch.LongTensor(tokens[2]) for tokens in sentences]\n",
    "        nsp_labels = torch.LongTensor([[tokens[2]] for tokens in sentences]).squeeze(1)\n",
    "\n",
    "        token_ids = pad_sequence(ids, padding_value=self.pad_token_id, batch_first=True)\n",
    "        mlm_labels = pad_sequence(mlm_labels, padding_value=self.pad_token_id, batch_first=True)\n",
    "        attention_masks = torch.ne(token_ids, self.pad_token_id).long()\n",
    "        attention_masks = attention_masks.unsqueeze(1).unsqueeze(2)\n",
    "\n",
    "        return token_ids, attention_masks, mlm_labels, nsp_labels"
   ]
  },
  {
   "cell_type": "code",
   "execution_count": 19,
   "id": "3d8b6ab3",
   "metadata": {},
   "outputs": [],
   "source": [
    "ds = CustomDataset(data, False)\n",
    "data_loader = DataLoader(ds, batch_size=2, collate_fn=DataCollatorForMLMAndNSP(pad_token_id=0))"
   ]
  },
  {
   "cell_type": "code",
   "execution_count": 20,
   "id": "a4adf4e5",
   "metadata": {},
   "outputs": [],
   "source": [
    "tokens, attention_mask, mlm_labels, nsp_labels = next(iter(data_loader))"
   ]
  },
  {
   "cell_type": "code",
   "execution_count": 21,
   "id": "8a8bf8de",
   "metadata": {},
   "outputs": [
    {
     "data": {
      "text/plain": [
       "tensor([[    2,  5558,     4,     4,  2427,  2976,  1179,  3290,  1238,  1203,\n",
       "         20430,     4,  1172,     4,  1179,     4,  1364, 28030,    16,     4,\n",
       "          2895,  1172, 12797,     3,  5558,  6926,  1208,  1161,  9201,  1172,\n",
       "          1161,  1681,    16,  1304,  1241,  6205,  1185,  1214, 18260,    16,\n",
       "         20872, 14185,    16,  1179,     4,     0,     0,     0,     0,     0,\n",
       "             0,     0,     0,     0,     0,     0,     0,     0,     0,     0,\n",
       "             0,     0,     0,     0,     0,     0,     0,     0,     0,     0,\n",
       "             0,     0,     0,     0,     0,     0,     0],\n",
       "        [    2,  5558,  6926,  1208,     4,  9201,  1172,  1161,  1681,    16,\n",
       "          1304,  1241,  6205,  1185,  1214, 18260,    16,     4, 14185,    16,\n",
       "          1179, 15714,     3,  1198,    32,  6376,     4,    17,  6319,  3290,\n",
       "            16,  4375,  1219,  1161,     4,  3002,     4,  1172,  1161,  2427,\n",
       "          7733,    16,  1241,  1203,  2666,  2749,     4, 14872,  1416,  1179,\n",
       "          9028, 25813,     4,  1161,  9028,  6319,     4,  9028, 12710,    13,\n",
       "          1172,  1161,  7842,  3290,    16,  1179,     4,    32,  2621,  3404,\n",
       "          3831,     4,  2851,     4,  7372,  1179,     4]])"
      ]
     },
     "execution_count": 21,
     "metadata": {},
     "output_type": "execute_result"
    }
   ],
   "source": [
    "tokens"
   ]
  },
  {
   "cell_type": "code",
   "execution_count": 22,
   "id": "5f862c02",
   "metadata": {},
   "outputs": [
    {
     "data": {
      "text/plain": [
       "tensor([[[[1, 1, 1, 1, 1, 1, 1, 1, 1, 1, 1, 1, 1, 1, 1, 1, 1, 1, 1, 1, 1, 1, 1,\n",
       "           1, 1, 1, 1, 1, 1, 1, 1, 1, 1, 1, 1, 1, 1, 1, 1, 1, 1, 1, 1, 1, 1, 0,\n",
       "           0, 0, 0, 0, 0, 0, 0, 0, 0, 0, 0, 0, 0, 0, 0, 0, 0, 0, 0, 0, 0, 0, 0,\n",
       "           0, 0, 0, 0, 0, 0, 0, 0]]],\n",
       "\n",
       "\n",
       "        [[[1, 1, 1, 1, 1, 1, 1, 1, 1, 1, 1, 1, 1, 1, 1, 1, 1, 1, 1, 1, 1, 1, 1,\n",
       "           1, 1, 1, 1, 1, 1, 1, 1, 1, 1, 1, 1, 1, 1, 1, 1, 1, 1, 1, 1, 1, 1, 1,\n",
       "           1, 1, 1, 1, 1, 1, 1, 1, 1, 1, 1, 1, 1, 1, 1, 1, 1, 1, 1, 1, 1, 1, 1,\n",
       "           1, 1, 1, 1, 1, 1, 1, 1]]]])"
      ]
     },
     "execution_count": 22,
     "metadata": {},
     "output_type": "execute_result"
    }
   ],
   "source": [
    "attention_mask"
   ]
  },
  {
   "cell_type": "code",
   "execution_count": 23,
   "id": "bb5117a1",
   "metadata": {},
   "outputs": [
    {
     "data": {
      "text/plain": [
       "tensor([[    2,  5558,  1203,    32,  2427,  2976,  1179,  3290,  1238,  1203,\n",
       "         20430,  1281,  1172,  4413,  1179, 19344,  1364, 28030,    16, 18848,\n",
       "          2895,  1172, 12797,     3,  5558,  6926,  1208,  1161,  9201,  1172,\n",
       "          1161,  1681,    16,  1304,  1241,  6205,  1185,  1214, 18260,    16,\n",
       "         20872, 14185,    16,  1179, 15714,     0,     0,     0,     0,     0,\n",
       "             0,     0,     0,     0,     0,     0,     0,     0,     0,     0,\n",
       "             0,     0,     0,     0,     0,     0,     0,     0,     0,     0,\n",
       "             0,     0,     0,     0,     0,     0,     0],\n",
       "        [    2,  5558,  6926,  1208,  1161,  9201,  1172,  1161,  1681,    16,\n",
       "          1304,  1241,  6205,  1185,  1214, 18260,    16, 20872, 14185,    16,\n",
       "          1179, 15714,     3,  1198,    32,  6376,  2559,    17,  6319,  3290,\n",
       "            16,  4375,  1219,  1161, 13837,  3002,  2559,  1172,  1161,  2427,\n",
       "          7733,    16,  1241,  1203,  2666,  2749,  7513, 14872,  1416,  1179,\n",
       "          9028, 25813,  1198,  1161,  9028,  6319,    12,  9028, 12710,    13,\n",
       "          1172,  1161,  7842,  3290,    16,  1179,  1376,    32,  2621,  3404,\n",
       "          3831,  1233,  2851,    17,  7372,  1179, 12710]])"
      ]
     },
     "execution_count": 23,
     "metadata": {},
     "output_type": "execute_result"
    }
   ],
   "source": [
    "mlm_labels"
   ]
  },
  {
   "cell_type": "code",
   "execution_count": 24,
   "id": "2e35973e",
   "metadata": {},
   "outputs": [
    {
     "data": {
      "text/plain": [
       "tensor([1, 1])"
      ]
     },
     "execution_count": 24,
     "metadata": {},
     "output_type": "execute_result"
    }
   ],
   "source": [
    "nsp_labels"
   ]
  },
  {
   "cell_type": "code",
   "execution_count": 25,
   "id": "b5f6a19c",
   "metadata": {},
   "outputs": [
    {
     "data": {
      "text/plain": [
       "'[CLS] anarchism [MASK] [MASK] political philosophy and movement that is scept [MASK] of [MASK] and [MASK] all involuntary , [MASK] forms of hierarchy [SEP] anarchism calls for the abolition of the state , which it holds to be unnecessary , undes ##irable , and [MASK] [PAD] [PAD] [PAD] [PAD] [PAD] [PAD] [PAD] [PAD] [PAD] [PAD] [PAD] [PAD] [PAD] [PAD] [PAD] [PAD] [PAD] [PAD] [PAD] [PAD] [PAD] [PAD] [PAD] [PAD] [PAD] [PAD] [PAD] [PAD] [PAD] [PAD] [PAD] [PAD]'"
      ]
     },
     "execution_count": 25,
     "metadata": {},
     "output_type": "execute_result"
    }
   ],
   "source": [
    "tokenizer.decode(tokens[0].tolist(), skip_special_tokens=False)"
   ]
  },
  {
   "attachments": {},
   "cell_type": "markdown",
   "id": "469d9c4d",
   "metadata": {},
   "source": [
    "## BERT Model implementation"
   ]
  },
  {
   "cell_type": "code",
   "execution_count": 26,
   "id": "58f7427a",
   "metadata": {},
   "outputs": [],
   "source": [
    "from utils import EncoderTransformer\n",
    "from tqdm.notebook import tqdm\n",
    "from sklearn.metrics import f1_score\n",
    "import torch"
   ]
  },
  {
   "cell_type": "code",
   "execution_count": 27,
   "id": "d57e2678",
   "metadata": {},
   "outputs": [],
   "source": [
    "class BERT(torch.nn.Module):\n",
    "    def __init__(self, embed_dim, num_heads, dropout, pf_dim, vocab_size, max_length, n_layers, device) -> None:\n",
    "        super().__init__()\n",
    "\n",
    "        self.encoder = EncoderTransformer(embed_dim, num_heads, dropout, pf_dim, vocab_size, max_length, n_layers, device=device)\n",
    "        self.nsp_dnn = torch.nn.Linear(embed_dim, 2, device=device)\n",
    "        self.mlm_dnn = torch.nn.Linear(embed_dim, vocab_size, device=device)\n",
    "\n",
    "        self.device = device\n",
    "\n",
    "    def config_training_args(self, optimizer, optimizer_kwargs={}):\n",
    "\n",
    "        self.optimizer = optimizer(self.parameters(), **optimizer_kwargs)\n",
    "\n",
    "    def forward(self, x, mask):\n",
    "\n",
    "        import torch\n",
    "\n",
    "        torch.cuda.synchronize()\n",
    "\n",
    "        x = self.encoder(x, mask)\n",
    "\n",
    "        y_mlm = self.mlm_dnn(x)\n",
    "        y_nsp = self.nsp_dnn(x[:, 0, :])\n",
    "\n",
    "        return y_mlm, y_nsp\n",
    "\n",
    "    def train_one_epoch(self, train_loader):\n",
    "\n",
    "        bar = tqdm(train_loader)\n",
    "        running_total_loss = 0\n",
    "        running_mlm_loss = 0\n",
    "        running_nsp_loss = 0\n",
    "        running_f1 = 0\n",
    "\n",
    "        for step, (ids, attention_mask, mlm_labels, nsp_labels) in enumerate(bar, 1):\n",
    "\n",
    "            # map to device\n",
    "            ids = ids.to(self.device)\n",
    "            attention_mask = attention_mask.to(self.device)\n",
    "            mlm_labels = mlm_labels.to(self.device)\n",
    "            nsp_labels = nsp_labels.to(self.device)\n",
    "\n",
    "            y_mlm, y_nsp = self(ids, attention_mask)\n",
    "            y_mlm = y_mlm.reshape(-1, y_mlm.shape[-1])\n",
    "            mlm_labels = mlm_labels.reshape(-1)\n",
    "\n",
    "            # compute mlm loss\n",
    "            mlm_loss = torch.nn.functional.cross_entropy(y_mlm, mlm_labels, ignore_index=0)\n",
    "\n",
    "            # compute nsp loss\n",
    "            nsp_loss = torch.nn.functional.cross_entropy(y_nsp, nsp_labels)\n",
    "\n",
    "            # total loss\n",
    "            loss = nsp_loss + mlm_loss\n",
    "\n",
    "            # clear grads\n",
    "            self.optimizer.zero_grad()\n",
    "\n",
    "            # backward\n",
    "            loss.backward()\n",
    "\n",
    "            # gradient clipping\n",
    "            torch.nn.utils.clip_grad_norm_(self.parameters(), 1.0)\n",
    "\n",
    "            # optimization step\n",
    "            self.optimizer.step()\n",
    "\n",
    "            # running total losses\n",
    "            running_mlm_loss += mlm_loss.item()\n",
    "            running_nsp_loss += nsp_loss.item()\n",
    "            running_total_loss += loss.item()\n",
    "\n",
    "            # running f1 score\n",
    "            y_nsp = torch.argmax(y_nsp, dim=-1)\n",
    "            running_f1 += f1_score(nsp_labels.cpu(), y_nsp.cpu(), average=\"macro\")\n",
    "\n",
    "            bar.set_description(\n",
    "                f\"total loss: {running_total_loss / step:0.3f} | \"\n",
    "                + f\"mlm loss: {running_mlm_loss / step:0.3f} | \"\n",
    "                + f\"nsp loss: {running_nsp_loss / step:0.3f} | \"\n",
    "                + f\"f1: {running_f1 / step:0.3f}\"\n",
    "            )\n",
    "\n",
    "    def train(self, train_data, num_epochs):\n",
    "\n",
    "        bar = tqdm(range(num_epochs))\n",
    "\n",
    "        for epoch in bar:\n",
    "\n",
    "            self.train_one_epoch(train_data)\n",
    "\n",
    "            bar.set_description(f\"epoch: {epoch}\")\n",
    "\n",
    "    def mask_filling(self, sentence: str, tokenizer):\n",
    "\n",
    "        sentence = \"[CLS]\" + sentence + \"[SEP]\"\n",
    "        token_ids = torch.LongTensor([tokenizer.encode(sentence).ids]).to(self.device)\n",
    "        attention_mask = torch.ne(token_ids, tokenizer.encode(\"[PAD]\").ids[0]).long().to(self.device)\n",
    "\n",
    "        with torch.no_grad():\n",
    "\n",
    "            y_mlm, _ = self(token_ids, attention_mask)\n",
    "\n",
    "            y_mlm = y_mlm.argmax(dim=-1)\n",
    "\n",
    "            sentence = tokenizer.decode(y_mlm[0].tolist())\n",
    "\n",
    "            return sentence\n",
    "\n",
    "    def nsp_prediction(self, sentence_a, sentence_b, tokenizer):\n",
    "\n",
    "        sentence = \"[CLS]\" + sentence_a + \"[SEP]\" + sentence_b\n",
    "        token_ids = torch.LongTensor([tokenizer.encode(sentence).ids]).to(self.device)\n",
    "        attention_mask = torch.ne(token_ids, tokenizer.encode(\"[PAD]\").ids[0]).long().to(self.device)\n",
    "\n",
    "        with torch.no_grad():\n",
    "\n",
    "            _, y_nsp = self(token_ids, attention_mask)\n",
    "\n",
    "            y_nsp = torch.argmax(y_nsp, dim=-1)\n",
    "\n",
    "        return y_nsp.item()"
   ]
  },
  {
   "cell_type": "code",
   "execution_count": 28,
   "id": "f9ec63f7",
   "metadata": {},
   "outputs": [],
   "source": [
    "ds = CustomDataset(data, False)\n",
    "data_loader = DataLoader(ds, batch_size=32, collate_fn=DataCollatorForMLMAndNSP(pad_token_id=0), num_workers=5, prefetch_factor=5)"
   ]
  },
  {
   "cell_type": "code",
   "execution_count": 29,
   "id": "9831095b",
   "metadata": {},
   "outputs": [],
   "source": [
    "# define model parameters\n",
    "embed_dim = 512\n",
    "max_length = 128\n",
    "num_heads = 8\n",
    "vocab_size = 30000\n",
    "n_layers = 6\n",
    "dropout = 0.3\n",
    "pf_dim = 512"
   ]
  },
  {
   "cell_type": "code",
   "execution_count": 30,
   "id": "d35cb918",
   "metadata": {},
   "outputs": [],
   "source": [
    "bert_model = BERT(embed_dim, num_heads, dropout, pf_dim, vocab_size, max_length, n_layers, device=\"cuda\")"
   ]
  },
  {
   "cell_type": "code",
   "execution_count": 31,
   "id": "c001dcc6",
   "metadata": {},
   "outputs": [],
   "source": [
    "# config model\n",
    "optimizer = torch.optim.Adam\n",
    "\n",
    "bert_model.config_training_args(optimizer=optimizer, optimizer_kwargs={\"lr\": 2e-5})"
   ]
  },
  {
   "cell_type": "code",
   "execution_count": 32,
   "id": "6d6d88e5",
   "metadata": {},
   "outputs": [
    {
     "data": {
      "application/vnd.jupyter.widget-view+json": {
       "model_id": "f506265b44c8413b900468ba3ac2616e",
       "version_major": 2,
       "version_minor": 0
      },
      "text/plain": [
       "  0%|          | 0/20 [00:00<?, ?it/s]"
      ]
     },
     "metadata": {},
     "output_type": "display_data"
    },
    {
     "data": {
      "application/vnd.jupyter.widget-view+json": {
       "model_id": "6d46d41824704cd7b093c9015999df35",
       "version_major": 2,
       "version_minor": 0
      },
      "text/plain": [
       "  0%|          | 0/2704 [00:00<?, ?it/s]"
      ]
     },
     "metadata": {},
     "output_type": "display_data"
    },
    {
     "data": {
      "application/vnd.jupyter.widget-view+json": {
       "model_id": "1fe34b846b2b48e08875c383cb967a90",
       "version_major": 2,
       "version_minor": 0
      },
      "text/plain": [
       "  0%|          | 0/2704 [00:00<?, ?it/s]"
      ]
     },
     "metadata": {},
     "output_type": "display_data"
    },
    {
     "data": {
      "application/vnd.jupyter.widget-view+json": {
       "model_id": "59940251c495464380a4663985ebd14c",
       "version_major": 2,
       "version_minor": 0
      },
      "text/plain": [
       "  0%|          | 0/2704 [00:00<?, ?it/s]"
      ]
     },
     "metadata": {},
     "output_type": "display_data"
    },
    {
     "data": {
      "application/vnd.jupyter.widget-view+json": {
       "model_id": "df40835885da41ecad792d85d4005506",
       "version_major": 2,
       "version_minor": 0
      },
      "text/plain": [
       "  0%|          | 0/2704 [00:00<?, ?it/s]"
      ]
     },
     "metadata": {},
     "output_type": "display_data"
    },
    {
     "data": {
      "application/vnd.jupyter.widget-view+json": {
       "model_id": "87a473cee8914beba0bcd2fa683b66d4",
       "version_major": 2,
       "version_minor": 0
      },
      "text/plain": [
       "  0%|          | 0/2704 [00:00<?, ?it/s]"
      ]
     },
     "metadata": {},
     "output_type": "display_data"
    },
    {
     "data": {
      "application/vnd.jupyter.widget-view+json": {
       "model_id": "4b2d25c012b14e988199edd27c5a8d78",
       "version_major": 2,
       "version_minor": 0
      },
      "text/plain": [
       "  0%|          | 0/2704 [00:00<?, ?it/s]"
      ]
     },
     "metadata": {},
     "output_type": "display_data"
    },
    {
     "data": {
      "application/vnd.jupyter.widget-view+json": {
       "model_id": "a0a1a9062ac3437db6f23e42d2ae9377",
       "version_major": 2,
       "version_minor": 0
      },
      "text/plain": [
       "  0%|          | 0/2704 [00:00<?, ?it/s]"
      ]
     },
     "metadata": {},
     "output_type": "display_data"
    },
    {
     "data": {
      "application/vnd.jupyter.widget-view+json": {
       "model_id": "126e65a813f549968f1ea32dbed02d70",
       "version_major": 2,
       "version_minor": 0
      },
      "text/plain": [
       "  0%|          | 0/2704 [00:00<?, ?it/s]"
      ]
     },
     "metadata": {},
     "output_type": "display_data"
    },
    {
     "data": {
      "application/vnd.jupyter.widget-view+json": {
       "model_id": "6ff3936669d9461285baef346263c176",
       "version_major": 2,
       "version_minor": 0
      },
      "text/plain": [
       "  0%|          | 0/2704 [00:00<?, ?it/s]"
      ]
     },
     "metadata": {},
     "output_type": "display_data"
    },
    {
     "data": {
      "application/vnd.jupyter.widget-view+json": {
       "model_id": "1bc7c848ae474c6999f22be2c0009b77",
       "version_major": 2,
       "version_minor": 0
      },
      "text/plain": [
       "  0%|          | 0/2704 [00:00<?, ?it/s]"
      ]
     },
     "metadata": {},
     "output_type": "display_data"
    },
    {
     "data": {
      "application/vnd.jupyter.widget-view+json": {
       "model_id": "8ee48fcc84814a018198cfef8654ec8b",
       "version_major": 2,
       "version_minor": 0
      },
      "text/plain": [
       "  0%|          | 0/2704 [00:00<?, ?it/s]"
      ]
     },
     "metadata": {},
     "output_type": "display_data"
    },
    {
     "data": {
      "application/vnd.jupyter.widget-view+json": {
       "model_id": "8ebfe218f26140bca8d4b82e880c1ee7",
       "version_major": 2,
       "version_minor": 0
      },
      "text/plain": [
       "  0%|          | 0/2704 [00:00<?, ?it/s]"
      ]
     },
     "metadata": {},
     "output_type": "display_data"
    },
    {
     "data": {
      "application/vnd.jupyter.widget-view+json": {
       "model_id": "dd74851d9446426cb32aa53c5e2ce2f1",
       "version_major": 2,
       "version_minor": 0
      },
      "text/plain": [
       "  0%|          | 0/2704 [00:00<?, ?it/s]"
      ]
     },
     "metadata": {},
     "output_type": "display_data"
    },
    {
     "data": {
      "application/vnd.jupyter.widget-view+json": {
       "model_id": "54a48b67db4b4d42871a5ab0e705bc71",
       "version_major": 2,
       "version_minor": 0
      },
      "text/plain": [
       "  0%|          | 0/2704 [00:00<?, ?it/s]"
      ]
     },
     "metadata": {},
     "output_type": "display_data"
    },
    {
     "data": {
      "application/vnd.jupyter.widget-view+json": {
       "model_id": "00e2c8228b504f1f8e599633031b260f",
       "version_major": 2,
       "version_minor": 0
      },
      "text/plain": [
       "  0%|          | 0/2704 [00:00<?, ?it/s]"
      ]
     },
     "metadata": {},
     "output_type": "display_data"
    },
    {
     "data": {
      "application/vnd.jupyter.widget-view+json": {
       "model_id": "3c930630e4904d7cb77b4dc3d4fb6796",
       "version_major": 2,
       "version_minor": 0
      },
      "text/plain": [
       "  0%|          | 0/2704 [00:00<?, ?it/s]"
      ]
     },
     "metadata": {},
     "output_type": "display_data"
    },
    {
     "data": {
      "application/vnd.jupyter.widget-view+json": {
       "model_id": "de1049d9123a496488aacd00f61f16c0",
       "version_major": 2,
       "version_minor": 0
      },
      "text/plain": [
       "  0%|          | 0/2704 [00:00<?, ?it/s]"
      ]
     },
     "metadata": {},
     "output_type": "display_data"
    },
    {
     "data": {
      "application/vnd.jupyter.widget-view+json": {
       "model_id": "28f8eb26ccdb4a65aea3b8b37a4de35b",
       "version_major": 2,
       "version_minor": 0
      },
      "text/plain": [
       "  0%|          | 0/2704 [00:00<?, ?it/s]"
      ]
     },
     "metadata": {},
     "output_type": "display_data"
    },
    {
     "data": {
      "application/vnd.jupyter.widget-view+json": {
       "model_id": "ba0696fbee2745b9a9f0255ddf01d108",
       "version_major": 2,
       "version_minor": 0
      },
      "text/plain": [
       "  0%|          | 0/2704 [00:00<?, ?it/s]"
      ]
     },
     "metadata": {},
     "output_type": "display_data"
    },
    {
     "data": {
      "application/vnd.jupyter.widget-view+json": {
       "model_id": "b93cbdde04b649c4ad9519cc83a559bf",
       "version_major": 2,
       "version_minor": 0
      },
      "text/plain": [
       "  0%|          | 0/2704 [00:00<?, ?it/s]"
      ]
     },
     "metadata": {},
     "output_type": "display_data"
    }
   ],
   "source": [
    "bert_model.train(data_loader, num_epochs=20)"
   ]
  },
  {
   "cell_type": "code",
   "execution_count": 91,
   "id": "09853d25",
   "metadata": {},
   "outputs": [
    {
     "data": {
      "text/plain": [
       "'humans lived in societies without formal hierarch ##ies long before the , of formal states , realms , or the'"
      ]
     },
     "execution_count": 91,
     "metadata": {},
     "output_type": "execute_result"
    }
   ],
   "source": [
    "bert_model.mask_filling(\n",
    "    \"[CLS] humans lived in societies without formal hierarchies long before the [MASK] of formal states, realms, or [MASK]\",\n",
    "    tokenizer,\n",
    ")"
   ]
  },
  {
   "cell_type": "code",
   "execution_count": 88,
   "id": "04a9abb7",
   "metadata": {},
   "outputs": [
    {
     "data": {
      "text/plain": [
       "0"
      ]
     },
     "execution_count": 88,
     "metadata": {},
     "output_type": "execute_result"
    }
   ],
   "source": [
    "bert_model.nsp_prediction(\n",
    "    sentence_a=\"humans lived in societies without formal hierarchies long before the establishment of formal states, realms, or empires\",\n",
    "    sentence_b=\"domesticated almonds appear in the early bronze age (bc), such as the archaeological sites of numeira (jordan), or possibly earlier\",\n",
    "    tokenizer=tokenizer,\n",
    ")"
   ]
  }
 ],
 "metadata": {
  "kernelspec": {
   "display_name": "Python 3 (ipykernel)",
   "language": "python",
   "name": "python3"
  },
  "language_info": {
   "codemirror_mode": {
    "name": "ipython",
    "version": 3
   },
   "file_extension": ".py",
   "mimetype": "text/x-python",
   "name": "python",
   "nbconvert_exporter": "python",
   "pygments_lexer": "ipython3",
   "version": "3.10.12"
  },
  "vscode": {
   "interpreter": {
    "hash": "0435c29a728a8af6f6141793e2794fa2251761d1c1dcca19e68ebfa0c489a176"
   }
  }
 },
 "nbformat": 4,
 "nbformat_minor": 5
}
