{
 "cells": [
  {
   "cell_type": "markdown",
   "metadata": {},
   "source": [
    "# SkipGram from scratch\n",
    "\n",
    "In this notebook we implement the Skip-Gram model from scratch using Pytorch and the we use the learned embeddings to solve a classification downstream task. The goal is not to have the best performing model but to learn how to implement from scratches a skipgram model. In this direction, we use the simples implementation of skipgram."
   ]
  },
  {
   "cell_type": "code",
   "execution_count": 11,
   "metadata": {},
   "outputs": [
    {
     "name": "stderr",
     "output_type": "stream",
     "text": [
      "[nltk_data] Downloading package stopwords to /home/omar/nltk_data...\n",
      "[nltk_data]   Package stopwords is already up-to-date!\n"
     ]
    },
    {
     "data": {
      "text/plain": [
       "True"
      ]
     },
     "execution_count": 11,
     "metadata": {},
     "output_type": "execute_result"
    }
   ],
   "source": [
    "# import libraries\n",
    "import torch\n",
    "import nltk\n",
    "import random\n",
    "\n",
    "import matplotlib.pyplot as plt\n",
    "import numpy as np\n",
    "import pandas as pd\n",
    "\n",
    "from typing import List, Callable\n",
    "from tqdm.notebook import tqdm\n",
    "from torch import nn\n",
    "from torch.utils.data import DataLoader\n",
    "from sklearn.decomposition import PCA\n",
    "from sklearn.pipeline import Pipeline\n",
    "from sklearn.preprocessing import StandardScaler\n",
    "from sklearn.model_selection import train_test_split\n",
    "from sklearn.linear_model import LogisticRegression\n",
    "from datasets import load_dataset\n",
    "import re\n",
    "\n",
    "nltk.download(\"stopwords\")"
   ]
  },
  {
   "cell_type": "code",
   "execution_count": 4,
   "metadata": {},
   "outputs": [
    {
     "data": {
      "text/html": [
       "\n",
       "                <script type=\"application/javascript\" id=\"jupyter_black\">\n",
       "                (function() {\n",
       "                    if (window.IPython === undefined) {\n",
       "                        return\n",
       "                    }\n",
       "                    var msg = \"WARNING: it looks like you might have loaded \" +\n",
       "                        \"jupyter_black in a non-lab notebook with \" +\n",
       "                        \"`is_lab=True`. Please double check, and if \" +\n",
       "                        \"loading with `%load_ext` please review the README!\"\n",
       "                    console.log(msg)\n",
       "                    alert(msg)\n",
       "                })()\n",
       "                </script>\n",
       "                "
      ],
      "text/plain": [
       "<IPython.core.display.HTML object>"
      ]
     },
     "metadata": {},
     "output_type": "display_data"
    }
   ],
   "source": [
    "# black formatting with jupyter-black\n",
    "import jupyter_black\n",
    "\n",
    "jupyter_black.load(\n",
    "    lab=True,\n",
    "    line_length=140,\n",
    ")"
   ]
  },
  {
   "cell_type": "markdown",
   "metadata": {},
   "source": [
    "# Load Dataset\n",
    "\n",
    "As training dataset we will use the IMDB dataset"
   ]
  },
  {
   "cell_type": "code",
   "execution_count": 10,
   "metadata": {},
   "outputs": [
    {
     "data": {
      "text/html": [
       "<div>\n",
       "<style scoped>\n",
       "    .dataframe tbody tr th:only-of-type {\n",
       "        vertical-align: middle;\n",
       "    }\n",
       "\n",
       "    .dataframe tbody tr th {\n",
       "        vertical-align: top;\n",
       "    }\n",
       "\n",
       "    .dataframe thead th {\n",
       "        text-align: right;\n",
       "    }\n",
       "</style>\n",
       "<table border=\"1\" class=\"dataframe\">\n",
       "  <thead>\n",
       "    <tr style=\"text-align: right;\">\n",
       "      <th></th>\n",
       "      <th>text</th>\n",
       "      <th>label</th>\n",
       "    </tr>\n",
       "  </thead>\n",
       "  <tbody>\n",
       "    <tr>\n",
       "      <th>0</th>\n",
       "      <td>This is just a precious little diamond. The pl...</td>\n",
       "      <td>-1</td>\n",
       "    </tr>\n",
       "    <tr>\n",
       "      <th>1</th>\n",
       "      <td>When I say this is my favourite film of all ti...</td>\n",
       "      <td>-1</td>\n",
       "    </tr>\n",
       "    <tr>\n",
       "      <th>2</th>\n",
       "      <td>I saw this movie because I am a huge fan of th...</td>\n",
       "      <td>-1</td>\n",
       "    </tr>\n",
       "    <tr>\n",
       "      <th>3</th>\n",
       "      <td>Being that the only foreign films I usually li...</td>\n",
       "      <td>-1</td>\n",
       "    </tr>\n",
       "    <tr>\n",
       "      <th>4</th>\n",
       "      <td>After seeing Point of No Return (a great movie...</td>\n",
       "      <td>-1</td>\n",
       "    </tr>\n",
       "  </tbody>\n",
       "</table>\n",
       "</div>"
      ],
      "text/plain": [
       "                                                text  label\n",
       "0  This is just a precious little diamond. The pl...     -1\n",
       "1  When I say this is my favourite film of all ti...     -1\n",
       "2  I saw this movie because I am a huge fan of th...     -1\n",
       "3  Being that the only foreign films I usually li...     -1\n",
       "4  After seeing Point of No Return (a great movie...     -1"
      ]
     },
     "execution_count": 10,
     "metadata": {},
     "output_type": "execute_result"
    }
   ],
   "source": [
    "# load imdb dataset from hugginface\n",
    "dataset = load_dataset(\"imdb\", split=\"unsupervised\").to_pandas()\n",
    "dataset.head()"
   ]
  },
  {
   "cell_type": "markdown",
   "metadata": {},
   "source": [
    "# Preprocessing"
   ]
  },
  {
   "cell_type": "code",
   "execution_count": 17,
   "metadata": {},
   "outputs": [
    {
     "data": {
      "text/html": [
       "<div>\n",
       "<style scoped>\n",
       "    .dataframe tbody tr th:only-of-type {\n",
       "        vertical-align: middle;\n",
       "    }\n",
       "\n",
       "    .dataframe tbody tr th {\n",
       "        vertical-align: top;\n",
       "    }\n",
       "\n",
       "    .dataframe thead th {\n",
       "        text-align: right;\n",
       "    }\n",
       "</style>\n",
       "<table border=\"1\" class=\"dataframe\">\n",
       "  <thead>\n",
       "    <tr style=\"text-align: right;\">\n",
       "      <th></th>\n",
       "      <th>text</th>\n",
       "      <th>label</th>\n",
       "    </tr>\n",
       "  </thead>\n",
       "  <tbody>\n",
       "    <tr>\n",
       "      <th>0</th>\n",
       "      <td>This is just a precious little diamond. The pl...</td>\n",
       "      <td>-1</td>\n",
       "    </tr>\n",
       "    <tr>\n",
       "      <th>1</th>\n",
       "      <td>When I say this is my favourite film of all ti...</td>\n",
       "      <td>-1</td>\n",
       "    </tr>\n",
       "    <tr>\n",
       "      <th>2</th>\n",
       "      <td>I saw this movie because I am a huge fan of th...</td>\n",
       "      <td>-1</td>\n",
       "    </tr>\n",
       "    <tr>\n",
       "      <th>3</th>\n",
       "      <td>Being that the only foreign films I usually li...</td>\n",
       "      <td>-1</td>\n",
       "    </tr>\n",
       "    <tr>\n",
       "      <th>4</th>\n",
       "      <td>After seeing Point of No Return (a great movie...</td>\n",
       "      <td>-1</td>\n",
       "    </tr>\n",
       "  </tbody>\n",
       "</table>\n",
       "</div>"
      ],
      "text/plain": [
       "                                                text  label\n",
       "0  This is just a precious little diamond. The pl...     -1\n",
       "1  When I say this is my favourite film of all ti...     -1\n",
       "2  I saw this movie because I am a huge fan of th...     -1\n",
       "3  Being that the only foreign films I usually li...     -1\n",
       "4  After seeing Point of No Return (a great movie...     -1"
      ]
     },
     "execution_count": 17,
     "metadata": {},
     "output_type": "execute_result"
    }
   ],
   "source": [
    "# Remove empty strings\n",
    "dataset = dataset.dropna(subset=[\"text\"]).query(\"text not in ['', ' ']\")\n",
    "dataset.head()"
   ]
  },
  {
   "cell_type": "markdown",
   "metadata": {},
   "source": [
    "Now we create a function to process the text. The function will do a basic text normalization"
   ]
  },
  {
   "cell_type": "code",
   "execution_count": 20,
   "metadata": {},
   "outputs": [],
   "source": [
    "# define normalization function\n",
    "def preprocess_text(text: str):\n",
    "\n",
    "    # to lower\n",
    "    text = text.lower()\n",
    "\n",
    "    # remove urls\n",
    "    text = re.sub(r\"http\\S+\", \"\", text)\n",
    "\n",
    "    # remove html tags\n",
    "    text = re.sub(r\"<.*?>\", \"\", text)\n",
    "\n",
    "    # remove punctuation\n",
    "    text = re.sub(r\"[^\\w\\s]\", \"\", text)\n",
    "\n",
    "    # remove extra spaces\n",
    "    text = re.sub(r\"\\s+\", \" \", text)\n",
    "\n",
    "    return text\n",
    "\n",
    "\n",
    "# apply text normalization\n",
    "dataset.text = dataset.text.apply(preprocess_text)"
   ]
  },
  {
   "cell_type": "markdown",
   "metadata": {},
   "source": [
    "# Tokenization\n"
   ]
  },
  {
   "cell_type": "markdown",
   "metadata": {},
   "source": [
    "As tokenizer, we will use a simple [White Space Tokenization](https://towardsdatascience.com/5-simple-ways-to-tokenize-text-in-python-92c6804edfc4) strategy"
   ]
  },
  {
   "cell_type": "code",
   "execution_count": 22,
   "metadata": {},
   "outputs": [],
   "source": [
    "# Define withe space tokenizer\n",
    "def white_space_tokenizer(text):\n",
    "\n",
    "    return text.split()"
   ]
  },
  {
   "cell_type": "markdown",
   "metadata": {},
   "source": [
    "# Lang class\n",
    "\n",
    "Now we create a class called `Lang` that will help us to convert input words to numbers "
   ]
  },
  {
   "cell_type": "code",
   "execution_count": 6,
   "metadata": {},
   "outputs": [],
   "source": [
    "class Lang:\n",
    "    def __init__(self, tokenizer: Callable):\n",
    "        self.word2index = {\"<pad>\": 0, \"<ukn>\": 1}\n",
    "        self.word2count = {}\n",
    "        self.index2word = {0: \"<pad>\", 1: \"<ukn>\"}\n",
    "        self.n_words = 2  # Counts\n",
    "        self.tokenizer = tokenizer\n",
    "\n",
    "    def addSentence(self, sentence: str):\n",
    "        for word in self.tokenizer(sentence):\n",
    "            self.addWord(word)\n",
    "\n",
    "    def addWord(self, word: str):\n",
    "        if word not in self.word2index:\n",
    "            self.word2index[word] = self.n_words\n",
    "            self.word2count[word] = 1\n",
    "            self.index2word[self.n_words] = word\n",
    "            self.n_words += 1\n",
    "        else:\n",
    "            self.word2count[word] += 1\n",
    "\n",
    "    def fit(self, dataset: List[str]):\n",
    "\n",
    "        for data in tqdm(dataset):\n",
    "            self.addSentence(data)\n",
    "\n",
    "    def transform(self, text: str):\n",
    "\n",
    "        tokens = self.tokenizer(text)\n",
    "        encoding = [self.word2index[tk] if tk in self.word2index.keys() else 1 for tk in tokens]\n",
    "\n",
    "        return encoding[0]\n",
    "\n",
    "    def inverse_transform(self, tokens: List[int]):\n",
    "\n",
    "        words = [self.index2word[tk] for tk in tokens]\n",
    "\n",
    "        return \" \".join(words)"
   ]
  },
  {
   "cell_type": "code",
   "execution_count": 7,
   "metadata": {},
   "outputs": [
    {
     "data": {
      "application/vnd.jupyter.widget-view+json": {
       "model_id": "2767622a7f9a4e90bcd8430c514a770d",
       "version_major": 2,
       "version_minor": 0
      },
      "text/plain": [
       "  0%|          | 0/25000 [00:00<?, ?it/s]"
      ]
     },
     "metadata": {},
     "output_type": "display_data"
    },
    {
     "data": {
      "text/plain": [
       "3179"
      ]
     },
     "execution_count": 7,
     "metadata": {},
     "output_type": "execute_result"
    }
   ],
   "source": [
    "# We test that the Lang class is working as expected\n",
    "lang = Lang(white_space_tokenizer)\n",
    "lang.fit(dataset.text_column)\n",
    "lang.transform(\"study\")"
   ]
  },
  {
   "cell_type": "markdown",
   "metadata": {},
   "source": [
    "# Define Dataloader"
   ]
  },
  {
   "cell_type": "markdown",
   "metadata": {},
   "source": [
    "We create a custom dataset to train the skipgram model. We use the `Lang` class and the `white_space_tokenizer` to create the custom dataset."
   ]
  },
  {
   "cell_type": "code",
   "execution_count": 8,
   "metadata": {},
   "outputs": [],
   "source": [
    "class CustomDataSet(torch.utils.data.Dataset):\n",
    "    def __init__(self, text: List[str], tokenizer: Callable, window_size: int = 2) -> None:\n",
    "        super().__init__()\n",
    "\n",
    "        self.word_pairs = self.get_word_pairs(text, window_size, tokenizer)\n",
    "\n",
    "        self.lang = Lang(tokenizer)\n",
    "        self.lang.fit(text)\n",
    "\n",
    "    def __len__(self):\n",
    "\n",
    "        return len(self.word_pairs)\n",
    "\n",
    "    def __getitem__(self, idx):\n",
    "\n",
    "        x = self.lang.transform(self.word_pairs[\"input\"].tolist()[idx])\n",
    "        y = self.lang.transform(self.word_pairs[\"target\"].tolist()[idx])\n",
    "\n",
    "        return x, y\n",
    "\n",
    "    def get_word_pairs(self, text: List[str], window_size: int, tokenizer: Callable):\n",
    "\n",
    "        x = []\n",
    "        y = []\n",
    "\n",
    "        for sentence in text:\n",
    "\n",
    "            sentence = tokenizer(sentence)\n",
    "\n",
    "            for i in range(window_size, len(sentence) - window_size):\n",
    "\n",
    "                words = sentence[i - window_size : i + window_size + 1]\n",
    "                context = words[window_size]\n",
    "                words.pop(window_size)\n",
    "\n",
    "                for w in words:\n",
    "                    x.append(context)\n",
    "                    y.append(w)\n",
    "\n",
    "        return pd.DataFrame({\"input\": x, \"target\": y}).sample(frac=1)"
   ]
  },
  {
   "cell_type": "code",
   "execution_count": 9,
   "metadata": {},
   "outputs": [
    {
     "data": {
      "application/vnd.jupyter.widget-view+json": {
       "model_id": "12802ac20e6f4d2c9a2307ff9da4d7ca",
       "version_major": 2,
       "version_minor": 0
      },
      "text/plain": [
       "  0%|          | 0/2 [00:00<?, ?it/s]"
      ]
     },
     "metadata": {},
     "output_type": "display_data"
    },
    {
     "data": {
      "text/plain": [
       "(tensor([80, 74, 82, 53]), tensor([68, 73, 83,  2]))"
      ]
     },
     "execution_count": 9,
     "metadata": {},
     "output_type": "execute_result"
    }
   ],
   "source": [
    "# Test Dataset and DataLoader\n",
    "ds = CustomDataSet(text=sample, tokenizer=white_space_tokenizer)\n",
    "loader = torch.utils.data.DataLoader(ds, batch_size=4, shuffle=True)\n",
    "x, y = next(iter(loader))\n",
    "x, y"
   ]
  },
  {
   "cell_type": "markdown",
   "metadata": {},
   "source": [
    "# SkipGram Model"
   ]
  },
  {
   "cell_type": "markdown",
   "metadata": {},
   "source": [
    "Now we use Pytorch to implement a skip-gram model from scratch. There exist more sophisticated implementations of skip-gram which uses [negative sampling](https://naturale0.github.io/2021/02/08/understanding-skip-gram) and word [sub-sampling](https://naturale0.github.io/2021/02/08/understanding-skip-gram) to seep up the training process. However, in this notebook we use the most basic implementation of skip-gram."
   ]
  },
  {
   "cell_type": "code",
   "execution_count": 34,
   "metadata": {},
   "outputs": [],
   "source": [
    "class SkipGramModel(nn.Module):\n",
    "    def __init__(self, embedding_dim: int, vocab_size: int, lang: Lang) -> None:\n",
    "        super().__init__()\n",
    "\n",
    "        self.lang = lang\n",
    "\n",
    "        self.embeddings = nn.Embedding(vocab_size, embedding_dim)\n",
    "\n",
    "        self.fc = nn.Sequential(\n",
    "            nn.Linear(embedding_dim, embedding_dim, bias=False),\n",
    "            nn.ReLU(),\n",
    "            nn.Linear(embedding_dim, vocab_size, bias=False),\n",
    "        )\n",
    "\n",
    "    def forward(self, x):\n",
    "\n",
    "        x = self.embeddings(x)\n",
    "        x = self.fc(x)\n",
    "\n",
    "        return x\n",
    "\n",
    "    def config_model(self, device: str = \"cuda\"):\n",
    "\n",
    "        # Define model device\n",
    "        self.device = device\n",
    "\n",
    "        # Define loss function\n",
    "        self.loss = nn.CrossEntropyLoss()\n",
    "\n",
    "        # Define optimizer\n",
    "        self.optimizer = torch.optim.Adam(self.parameters())\n",
    "\n",
    "        # send model to device\n",
    "        self.to(device)\n",
    "\n",
    "    def train_on_epoch(self, train_loader: DataLoader):\n",
    "\n",
    "        running_loss = 0\n",
    "\n",
    "        bar = tqdm(train_loader, leave=False)\n",
    "\n",
    "        for step, (x, y) in enumerate(bar, 1):\n",
    "\n",
    "            self.optimizer.zero_grad()\n",
    "\n",
    "            # set device\n",
    "            x, y = x.to(self.device), y.to(self.device)\n",
    "\n",
    "            # logit prediction\n",
    "            output = self(x)\n",
    "\n",
    "            # compute loss\n",
    "            loss = self.loss(output, y)\n",
    "\n",
    "            # compute gradients\n",
    "            loss.backward()\n",
    "\n",
    "            # update network eights\n",
    "            self.optimizer.step()\n",
    "\n",
    "            running_loss += loss.item()\n",
    "\n",
    "            bar.set_description(f\"Train Loss: {round(running_loss/step, 2)}\")\n",
    "\n",
    "        return round(running_loss / step, 3)\n",
    "\n",
    "    def fit(self, train_loader: DataLoader, epochs: int = 1):\n",
    "\n",
    "        bar = tqdm(range(1, epochs + 1), desc=\"Epoch 1\")\n",
    "\n",
    "        for epoch in bar:\n",
    "\n",
    "            train_loss = self.train_on_epoch(train_loader)\n",
    "\n",
    "            bar.set_description(f\"Epoch {epoch}: Train Loss: {train_loss}\")\n",
    "\n",
    "    def transform_word(self, text: List[str]):\n",
    "\n",
    "        embedding = []\n",
    "\n",
    "        self.eval()\n",
    "        self.to(self.device)\n",
    "\n",
    "        with torch.no_grad():\n",
    "\n",
    "            for word in text:\n",
    "                text = torch.Tensor([self.lang.transform(word)]).long().to(self.device)\n",
    "                embedding.append(self.embeddings(text).flatten().cpu().numpy())\n",
    "\n",
    "        return np.array(embedding)\n",
    "\n",
    "    def transform_sentence(self, text: List[str]):\n",
    "\n",
    "        embeddings = []\n",
    "\n",
    "        for sentence in text:\n",
    "\n",
    "            word_embedding = self.transform_word(self.lang.tokenizer(sentence))\n",
    "            embeddings.append(word_embedding.mean(axis=0))\n",
    "\n",
    "        return np.array(embeddings)\n",
    "\n",
    "    def plot_pca_components(self, text: str, n: int = 10):\n",
    "\n",
    "        tokens = random.sample(self.lang.tokenizer(text), n)\n",
    "        embeddings = self.transform_word(tokens)\n",
    "\n",
    "        pca = Pipeline(\n",
    "            [\n",
    "                (\"scale\", StandardScaler()),\n",
    "                (\"pca\", PCA(n_components=2)),\n",
    "            ]\n",
    "        )\n",
    "\n",
    "        x_pca = pca.fit_transform(embeddings)\n",
    "\n",
    "        plt.plot(x_pca[:, 0], x_pca[:, 1], \"o\")\n",
    "\n",
    "        for i, s in enumerate(tokens):\n",
    "\n",
    "            x = x_pca[i, 0]\n",
    "            y = x_pca[i, 1]\n",
    "            plt.text(x, y, s)\n",
    "\n",
    "        plt.xlabel(\"PC 1\")\n",
    "        plt.ylabel(\"PC 2\")\n",
    "        plt.title(\"PCA plot\")"
   ]
  },
  {
   "cell_type": "markdown",
   "metadata": {},
   "source": [
    "# Train Skip-Gram model"
   ]
  },
  {
   "cell_type": "markdown",
   "metadata": {},
   "source": [
    "We train the skip-gram model using a small sample."
   ]
  },
  {
   "cell_type": "code",
   "execution_count": 11,
   "metadata": {},
   "outputs": [
    {
     "data": {
      "application/vnd.jupyter.widget-view+json": {
       "model_id": "e4d4c9effc504042be06c6ae974ef571",
       "version_major": 2,
       "version_minor": 0
      },
      "text/plain": [
       "  0%|          | 0/300 [00:00<?, ?it/s]"
      ]
     },
     "metadata": {},
     "output_type": "display_data"
    }
   ],
   "source": [
    "# Define data to pre-train the skip-gram model\n",
    "sample = dataset.text_column.sample(300).tolist()\n",
    "\n",
    "# Define dataset\n",
    "ds_train = CustomDataSet(text=sample, tokenizer=white_space_tokenizer, window_size=2)\n",
    "\n",
    "# Define Dataloader\n",
    "train_loader = torch.utils.data.DataLoader(ds_train, batch_size=512, shuffle=True, num_workers=6)"
   ]
  },
  {
   "cell_type": "code",
   "execution_count": 12,
   "metadata": {},
   "outputs": [
    {
     "data": {
      "text/plain": [
       "8806"
      ]
     },
     "execution_count": 12,
     "metadata": {},
     "output_type": "execute_result"
    }
   ],
   "source": [
    "# Set vocab size\n",
    "vocab_size = ds_train.lang.n_words\n",
    "vocab_size"
   ]
  },
  {
   "cell_type": "code",
   "execution_count": 13,
   "metadata": {},
   "outputs": [],
   "source": [
    "# Instance skip-gram model\n",
    "skipgram_model = SkipGramModel(embedding_dim=100, vocab_size=vocab_size, lang=ds_train.lang)\n",
    "\n",
    "# Config skip-gram model\n",
    "skipgram_model.config_model(device=\"cpu\")"
   ]
  },
  {
   "cell_type": "code",
   "execution_count": 14,
   "metadata": {},
   "outputs": [
    {
     "data": {
      "application/vnd.jupyter.widget-view+json": {
       "model_id": "33becffe998e4c2f87d502b4ec6e6a0d",
       "version_major": 2,
       "version_minor": 0
      },
      "text/plain": [
       "Epoch 1:   0%|          | 0/5 [00:00<?, ?it/s]"
      ]
     },
     "metadata": {},
     "output_type": "display_data"
    },
    {
     "data": {
      "application/vnd.jupyter.widget-view+json": {
       "model_id": "",
       "version_major": 2,
       "version_minor": 0
      },
      "text/plain": [
       "  0%|          | 0/262 [00:00<?, ?it/s]"
      ]
     },
     "metadata": {},
     "output_type": "display_data"
    },
    {
     "data": {
      "application/vnd.jupyter.widget-view+json": {
       "model_id": "",
       "version_major": 2,
       "version_minor": 0
      },
      "text/plain": [
       "  0%|          | 0/262 [00:00<?, ?it/s]"
      ]
     },
     "metadata": {},
     "output_type": "display_data"
    },
    {
     "data": {
      "application/vnd.jupyter.widget-view+json": {
       "model_id": "",
       "version_major": 2,
       "version_minor": 0
      },
      "text/plain": [
       "  0%|          | 0/262 [00:00<?, ?it/s]"
      ]
     },
     "metadata": {},
     "output_type": "display_data"
    },
    {
     "data": {
      "application/vnd.jupyter.widget-view+json": {
       "model_id": "",
       "version_major": 2,
       "version_minor": 0
      },
      "text/plain": [
       "  0%|          | 0/262 [00:00<?, ?it/s]"
      ]
     },
     "metadata": {},
     "output_type": "display_data"
    },
    {
     "data": {
      "application/vnd.jupyter.widget-view+json": {
       "model_id": "",
       "version_major": 2,
       "version_minor": 0
      },
      "text/plain": [
       "  0%|          | 0/262 [00:00<?, ?it/s]"
      ]
     },
     "metadata": {},
     "output_type": "display_data"
    }
   ],
   "source": [
    "# Fit skipgram model\n",
    "skipgram_model.fit(train_loader, 5)"
   ]
  },
  {
   "cell_type": "code",
   "execution_count": 39,
   "metadata": {},
   "outputs": [
    {
     "data": {
      "image/png": "[encoded data removed]",
      "text/plain": [
       "<Figure size 640x480 with 1 Axes>"
      ]
     },
     "metadata": {},
     "output_type": "display_data"
    }
   ],
   "source": [
    "# Visualize embedding on 2D\n",
    "skipgram_model.plot_pca_components(sample[0], n=20)"
   ]
  },
  {
   "cell_type": "markdown",
   "metadata": {},
   "source": [
    "# Classification Downstream task"
   ]
  },
  {
   "cell_type": "markdown",
   "metadata": {},
   "source": [
    "Finally, we use the pre-trained embeddings on a the binary classification downstream task."
   ]
  },
  {
   "cell_type": "code",
   "execution_count": 17,
   "metadata": {},
   "outputs": [],
   "source": [
    "# Split data to train and test\n",
    "X_train, X_test, y_train, y_test = train_test_split(\n",
    "    dataset.text_column.tolist(), dataset.target_column.tolist(), test_size=0.1, random_state=42\n",
    ")"
   ]
  },
  {
   "cell_type": "code",
   "execution_count": 18,
   "metadata": {},
   "outputs": [],
   "source": [
    "# Transform input text\n",
    "X_train_emb = skipgram_model.transform_sentence(X_train)\n",
    "X_test_emb =skipgram_model.transform_sentence(X_test)"
   ]
  },
  {
   "cell_type": "code",
   "execution_count": 19,
   "metadata": {},
   "outputs": [],
   "source": [
    "# Define classification model\n",
    "model = LogisticRegression()"
   ]
  },
  {
   "cell_type": "code",
   "execution_count": 20,
   "metadata": {},
   "outputs": [
    {
     "data": {
      "text/plain": [
       "LogisticRegression()"
      ]
     },
     "execution_count": 20,
     "metadata": {},
     "output_type": "execute_result"
    }
   ],
   "source": [
    "# Fit Classification model\n",
    "model.fit(X_train_emb, y_train)"
   ]
  },
  {
   "cell_type": "code",
   "execution_count": 21,
   "metadata": {},
   "outputs": [
    {
     "data": {
      "text/plain": [
       "0.6856"
      ]
     },
     "execution_count": 21,
     "metadata": {},
     "output_type": "execute_result"
    }
   ],
   "source": [
    "# Model performance on the test set \n",
    "model.score(X_test_emb, y_test)"
   ]
  }
 ],
 "metadata": {
  "kernelspec": {
   "display_name": "Python 3 (ipykernel)",
   "language": "python",
   "name": "python3"
  },
  "language_info": {
   "codemirror_mode": {
    "name": "ipython",
    "version": 3
   },
   "file_extension": ".py",
   "mimetype": "text/x-python",
   "name": "python",
   "nbconvert_exporter": "python",
   "pygments_lexer": "ipython3",
   "version": "3.10.12"
  },
  "vscode": {
   "interpreter": {
    "hash": "0435c29a728a8af6f6141793e2794fa2251761d1c1dcca19e68ebfa0c489a176"
   }
  }
 },
 "nbformat": 4,
 "nbformat_minor": 4
}
